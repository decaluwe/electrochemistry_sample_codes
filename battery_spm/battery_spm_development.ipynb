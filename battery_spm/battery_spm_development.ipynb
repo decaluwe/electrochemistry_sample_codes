{
 "cells": [
  {
   "cell_type": "markdown",
   "metadata": {},
   "source": [
    "# Battery Single Particle Model Development\n",
    "\n",
    "We will develop the initial model and governing equations for a single-particle battery model.\n",
    "\n",
    "The model domain includes:\n",
    "- Porous graphite anode\n",
    "- Porous electrolyte separator\n",
    "- Porous LiCoO2 (LCO) cathode\n",
    "\n",
    "The liquid electrolyte will consist of 1 M LiPF$_6$ in a 1:1 v/v mixture of EC and DMC.\n",
    "\n",
    "The simulation will assume a constant temperature of 298 K.  We will further assume that the anode, cathode, and electrolyte phases are incompressible (constant molar density).\n",
    "\n",
    "The state variables are:\n",
    "- Li intercalation fraction $X_{\\rm Li}$ in the graphite, $X_{\\rm Li,an}$\n",
    "- Electric potential of the graphite\n",
    "- Concentration of the Li+ in the electrolyte in the anode.\n",
    "- Electrolyte electric potential in the anode.\n",
    "- Concentration of the Li+ in the electrolyte in the separator.\n",
    "- Electrolyte electric potential in the separator.\n",
    "- Concentration of the Li+ in the electrolyte in the cathode.\n",
    "- Electrolyte electric potential in the cathode.\n",
    "- Li intercalation fraction $X_{\\rm Li}$ in the LCO, $X_{\\rm Li,ca}$\n",
    "- Electric potential in the LCO\n",
    "\n",
    "## Conservation of charge:\n",
    "\n",
    "### Double layer current:\n",
    "\n",
    "We begin with conservation of charge at the electrolyte/electrode double layers.  Calling 'el' the electrode phase:\n",
    "\\begin{equation}\n",
    "    \\frac{\\partial Q_{\\rm el}}{\\partial t} = 0 = \\pm I_{\\rm ext} -i _{\\rm Far}A_{\\rm surf} - i_{\\rm dl}A_{\\rm surf}\n",
    "\\end{equation}\n",
    "\n",
    "which leads eventually to:\n",
    "\n",
    "\\begin{equation}\n",
    "    i_{\\rm dl} = \\pm i_{\\rm ext}\\frac{A_{\\rm geo}}{A_{\\rm surf}} -i _{\\rm Far}\n",
    "\\end{equation}\n",
    "where the sign on $i_{\\rm ext}$ depends on whether we deal with the cathode or the anode.  We consider positive current as the discharge current, which delivers positive charge to the anode ($i_{\\rm ext}$), and negative charge to the cathode ($-i_{\\rm ext}$). $i_{\\rm dl}$ and $i_{\\rm Far}$ both move positive charge from the electrode to the electrolyte bulk interior."
   ]
  },
  {
   "cell_type": "markdown",
   "metadata": {},
   "source": [
    "where we name the geometric factor $A_{\\rm fac}$:\n",
    "\\begin{equation}\n",
    "    A_{\\rm fac} = \\frac{A_{\\rm geo}}{A_{\\rm surf}} = \\frac{r_p}{3H_{\\rm el}\\varepsilon_{\\rm AM}}\n",
    "\\end{equation}\n",
    "where $r_p$ is the active material particle radius, $H_{\\rm el}$ is the electrode thickness, and $\\varepsilon_{\\rm AM}$ is the active material volume fraction in the electrode.\n"
   ]
  },
  {
   "cell_type": "markdown",
   "metadata": {},
   "source": [
    "### Double layer potential:\n",
    "\n",
    "The charge separation at the double layer (C/m$^2$) then evolves as:\n",
    "\n",
    "\\begin{equation}\n",
    "    \\frac{\\partial q_{\\rm dl}}{\\partial t} = i_{\\rm dl}\n",
    "\\end{equation}\n",
    "Defining the charge separation as $q_{\\rm dl} = q_{\\rm el} - q_{\\rm elyte}$ and $\\Delta \\phi_{\\rm dl} = \\phi_{\\rm el} - \\phi_{\\rm elyte}$: \n",
    "\n",
    "\\begin{equation}\n",
    "    \\frac{d\\Delta\\phi_{\\rm dl}}{dt} =\\frac{d\\left(\\phi_{\\rm el} - \\phi_{\\rm elyte}\\right)}{dt} = \\frac{i_{\\rm dl}}{C_{\\rm dl}} = \\frac{1}{C_{\\rm dl}}\\left(\\pm i_{\\rm ext}A_{\\rm fac}-i_{\\rm Far}\\right)\n",
    "\\end{equation}\n",
    "\n",
    "## Assumptions and boundary conditions.\n",
    "\n",
    "### In the anode:\n",
    "We get to pick one electric potential as our reference condition ($\\phi = 0$).  Without loss of generality, assume the anode is our reference: \n",
    "\n",
    "\\begin{equation}\n",
    "    \\phi_{\\rm an} = 0 {\\rm V.}\n",
    "\\end{equation}\n",
    "From this, we can calculate the electrolyte electric potential in the anode pores as:\n",
    "\n",
    "\\begin{equation}\n",
    "    \\phi_{\\rm elyte,an} = \\phi_{\\rm an} - \\Delta\\phi_{\\rm dl,an}\n",
    "\\end{equation}\n",
    "which means that $\\Delta\\phi_{\\rm dl}$ can serve as our state variable.\n",
    "\n",
    "### In the cathode:\n",
    "We assume, initially, that the electrolyte across the separator has a fixed resistance:\n",
    "\n",
    "\\begin{equation}\n",
    "    R_{\\rm sep} = \\frac{1}{\\sigma_{\\rm io,elyte}}\\left(H_{\\rm sep} + 0.5\\,H_{\\rm an} + 0.5\\,H_{\\rm ca}\\right)\n",
    "\\end{equation}\n",
    "where $H$ is the component thickness and $\\sigma_{\\rm io,elyte}$ is the effective ionic conductivity of the electrolyte (incorporating any microstructure effects).\n",
    "\n",
    "From this, we can calculate the elecric potential of the electrolyte in the cathode, relative to that in the anode:\n",
    "\n",
    "\\begin{equation}\n",
    "    \\phi_{\\rm elyte,ca} = \\phi_{\\rm elyte,an} - i_{\\rm ext}R_{\\rm sep}\n",
    "\\end{equation}\n",
    "Finally, we can calculate the cathode active material electric potential, relative to the known electrolyte electric potential and the double layer potential:\n",
    "\n",
    "\\begin{equation}\n",
    "    \\phi_{\\rm ca} = \\phi_{\\rm elyte,ca} + \\Delta\\phi_{\\rm dl,ca}\n",
    "\\end{equation}"
   ]
  },
  {
   "cell_type": "markdown",
   "metadata": {},
   "source": [
    "Therefore, it is sufficient to store the two double layer potntials $\\Delta\\phi_{\\rm dl,an}$ and $\\Delta\\phi_{\\rm dl,ca}$, which along with $R_{\\rm sep}$ and $i_{\\rm ext}$ can determine all electric potentials at a given time."
   ]
  },
  {
   "cell_type": "code",
   "execution_count": 77,
   "metadata": {},
   "outputs": [],
   "source": [
    "# Inputs:\n",
    "\n",
    "C_rate = 0.1 # How many charges per hour?\n",
    "\n",
    "T = 298 #K\n",
    "\n",
    "r_p_an = 4e-6 #m\n",
    "phi_an_0 = 0 #V\n",
    "C_dl_an = 1e4 #F/m2\n",
    "i_o_an = 4.0  #A/m2\n",
    "n_an = -1\n",
    "beta_an = 0.5\n",
    "H_an = 30e-6  #m\n",
    "density_graphite = 2260 #kg/m3\n",
    "capacity_graphite = 350 #Ah/kg\n",
    "eps_graphite = .65\n",
    "dPhi_eq_an = -1.6\n",
    "\n",
    "phi_sep_0 = 1.8  #V\n",
    "\n",
    "r_p_ca = 0.3e-6 #m\n",
    "phi_ca_0 = 4.6  #V\n",
    "C_dl_ca = 1e4 #F/m2\n",
    "i_o_ca = 100 #A/m2\n",
    "n_ca = -1\n",
    "beta_ca = 0.5\n",
    "H_ca = 50e-6  #m\n",
    "density_LCO = 2292  #kg/m3\n",
    "capacity_LCO = 175  #Ah/kg\n",
    "eps_LCO = 0.65\n",
    "dPhi_eq_ca = 2.6\n",
    "\n",
    "# How deep do we want to charge/discharge?\n",
    "charge_frac = 0.9"
   ]
  },
  {
   "cell_type": "markdown",
   "metadata": {},
   "source": [
    "### Capacity\n",
    "We need to calculate the total charge we can store in each electrode (the capacity). This is typically calculated in A-h (1 A-h = 3600 Coulombs). Each active material has a known gravimetric capacity, which can be converted to the electrode capacity (per m$^2$ of battery):\n",
    "\n",
    "\\begin{equation}\n",
    "    {\\rm Cap} = C_{\\rm AM}\\rho_{\\rm AM}\\varepsilon_{\\rm AM}H_{\\rm el}\n",
    "\\end{equation}\n",
    "\n",
    "The total battery capacity is the minimum of the two electrode capacities.  For a given C-rate, then, the external current density equals the C-rate multiplied by the capacity."
   ]
  },
  {
   "cell_type": "code",
   "execution_count": 78,
   "metadata": {},
   "outputs": [],
   "source": [
    "# Initialize:\n",
    "phi_dl_an_0 = phi_an_0 - phi_sep_0\n",
    "phi_dl_ca_0 = phi_ca_0 - phi_sep_0\n",
    "\n",
    "\n",
    "capacity_anode = capacity_graphite*H_an*eps_graphite*density_graphite\n",
    "capacity_cathode = capacity_LCO*H_ca*eps_LCO*density_LCO\n",
    "capacity_area = min(capacity_anode,capacity_cathode)\n",
    "\n",
    "\n",
    "t_final = charge_frac*3600./C_rate\n",
    "i_ext = C_rate*capacity_area\n",
    "\n",
    "A_fac_an = r_p_an/3/H_an/eps_graphite\n",
    "A_fac_ca = r_p_ca/3/H_ca/eps_LCO"
   ]
  },
  {
   "cell_type": "code",
   "execution_count": 79,
   "metadata": {},
   "outputs": [],
   "source": [
    "# Constants\n",
    "F = 96485\n",
    "R = 8.3145"
   ]
  },
  {
   "cell_type": "code",
   "execution_count": 80,
   "metadata": {},
   "outputs": [],
   "source": [
    "import numpy as np\n",
    "from math import exp\n",
    "\n",
    "def residual(t,SV):\n",
    "    dSV_dt = np.zeros_like(SV)\n",
    "    \n",
    "    eta_an = SV[0] - dPhi_eq_an\n",
    "    i_Far_an = i_o_an*(exp(-n_an*F*beta_an*eta_an/R/T)\n",
    "                      - exp(n_an*F*(1-beta_an)*eta_an/R/T))\n",
    "    i_dl_an = i_ext*A_fac_an - i_Far_an\n",
    "    dSV_dt[0] = i_dl_an/C_dl_an\n",
    "    \n",
    "    \n",
    "    eta_ca = SV[1] - dPhi_eq_ca\n",
    "    i_Far_ca = i_o_ca*(exp(-n_ca*F*beta_ca*eta_ca/R/T)\n",
    "                      - exp(n_ca*F*(1-beta_ca)*eta_ca/R/T))\n",
    "    i_dl_ca = -i_ext*A_fac_ca - i_Far_ca\n",
    "    \n",
    "    \n",
    "    dSV_dt[1] = i_dl_ca/C_dl_ca\n",
    "    \n",
    "    return dSV_dt"
   ]
  },
  {
   "cell_type": "code",
   "execution_count": 81,
   "metadata": {},
   "outputs": [],
   "source": [
    "from scipy.integrate import solve_ivp\n",
    "\n",
    "SV_0 = np.array([phi_dl_an_0, phi_dl_ca_0])\n",
    "\n",
    "time_span = np.array([0,t_final])\n",
    "\n",
    "solution = solve_ivp(residual,time_span,SV_0,rtol=1e-6, atol=1e-8)"
   ]
  },
  {
   "cell_type": "code",
   "execution_count": 82,
   "metadata": {},
   "outputs": [
    {
     "data": {
      "text/plain": [
       "<matplotlib.legend.Legend at 0x7fa193c0c250>"
      ]
     },
     "execution_count": 82,
     "metadata": {},
     "output_type": "execute_result"
    },
    {
     "data": {
      "image/png": "[encoded data removed]",
      "text/plain": [
       "<Figure size 432x288 with 1 Axes>"
      ]
     },
     "metadata": {
      "needs_background": "light"
     },
     "output_type": "display_data"
    }
   ],
   "source": [
    "from matplotlib import pyplot as plt\n",
    "for var in solution.y:\n",
    "    plt.plot(solution.t,var)\n",
    "    \n",
    "plt.legend(['Anode double layer','Cathode double layer'])"
   ]
  },
  {
   "cell_type": "markdown",
   "metadata": {},
   "source": [
    "For now, the battery double layer potentials simply go to those values needed to sustain the current density."
   ]
  },
  {
   "cell_type": "code",
   "execution_count": null,
   "metadata": {},
   "outputs": [],
   "source": []
  }
 ],
 "metadata": {
  "kernelspec": {
   "display_name": "Python 3",
   "language": "python",
   "name": "python3"
  },
  "language_info": {
   "codemirror_mode": {
    "name": "ipython",
    "version": 3
   },
   "file_extension": ".py",
   "mimetype": "text/x-python",
   "name": "python",
   "nbconvert_exporter": "python",
   "pygments_lexer": "ipython3",
   "version": "3.8.5"
  }
 },
 "nbformat": 4,
 "nbformat_minor": 4
}
